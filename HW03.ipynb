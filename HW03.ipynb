def parent(i):
    return i // 2

def left_child(i):
    return 2 * i

def right_child(i):
    return 2 * i + 1
    
class MinHeap:
    def __init__(self):
        self.heap = [0] 
    def size(self):
        return len(self.heap) - 1

    def bubble_down(self, ind):
        while left_child(ind) <= self.size():
            newInd = ind
            if self.heap[left_child(ind)] < self.heap[ind]:
                newInd = left_child(ind)
            if right_child(ind) <= self.size() and self.heap[right_child(ind)] < self.heap[newInd]:
                newInd = right_child(ind)
            if ind == newInd:
                break
            self.heap[ind], self.heap[newInd] = self.heap[newInd], self.heap[ind]
            ind = newInd
    
    def bubble_up(self, ind):
        while ind > 1 and self.heap[ind] < self.heap[parent(ind)]:
            self.heap[ind], self.heap[parent(ind)] = self.heap[parent(ind)], self.heap[ind]
            ind = parent(ind)

    def insert(self, item):
        self.heap.append(item)
        self.bubble_up(self.size())
  
    def getting_min(self):
        if self.size() == 0:
            raise Exception("Heap is empty")
        return self.heap[1]

    def delting_min(self):
        if self.size() == 0:
            raise Exception("Heap is empty")
        min_val = self.heap[1]
        self.heap[1] = self.heap[-1]
        del self.heap[-1]
        self.bubble_down(1)
        return min_val
    
    def build_heap_with_bubble_up(self, L):
        self.heap = [0] + L
        for i in range(self.size() + 1):
            self.bubble_up(i)
    
    def build_heap_with_bubble_down(self, L):
        self.heap = [0] + L
        for i in range(self.size(), 0, -1):
            self.bubble_down(i)
    
    def clear(self):
        self.heap = [0]

def pyramid_sort(data):
    min_heap = MinHeap()
    for value in data:
        min_heap.insert(value)
    
    sorted_data = []
    while min_heap.size() > 0:
        sorted_data.append(min_heap.delting_min())
    
    return sorted_data

if __name__ == "__main__":   

    input_data = input("Enter numbers separated by spaces: ")
    input_list = list(map(int, input_data.strip().split())) 
    sorted_list = pyramid_sort(input_list)
    print("The sorted list is :", sorted_list)
